{
 "cells": [
  {
   "cell_type": "code",
   "execution_count": 1,
   "metadata": {
    "collapsed": true
   },
   "outputs": [],
   "source": [
    "%matplotlib inline"
   ]
  },
  {
   "cell_type": "code",
   "execution_count": 2,
   "metadata": {
    "collapsed": true
   },
   "outputs": [],
   "source": [
    "import numpy as np\n",
    "import fiona\n",
    "from shapely.geometry import Polygon,shape,MultiPoint,Point\n",
    "import os.path\n",
    "import matplotlib.pyplot as plt\n",
    "from functools import partial\n",
    "import pyproj\n",
    "from shapely.ops import transform"
   ]
  },
  {
   "cell_type": "code",
   "execution_count": 3,
   "metadata": {
    "collapsed": true
   },
   "outputs": [],
   "source": [
    "shapefile = os.path.join(os.path.expanduser('~'),'data','landslide','northridge','northridge_dd.shp')"
   ]
  },
  {
   "cell_type": "code",
   "execution_count": 4,
   "metadata": {
    "collapsed": false
   },
   "outputs": [
    {
     "name": "stdout",
     "output_type": "stream",
     "text": [
      "11111\n",
      "Polygon\n"
     ]
    }
   ],
   "source": [
    "f = fiona.collection(shapefile,'r')\n",
    "shapes = list(f)\n",
    "xmin,ymin,xmax,ymax = f.bounds\n",
    "f.close()\n",
    "print len(shapes)\n",
    "print shapes[0]['geometry']['type']"
   ]
  },
  {
   "cell_type": "code",
   "execution_count": 5,
   "metadata": {
    "collapsed": false
   },
   "outputs": [],
   "source": [
    "def plotPolygon(shape):\n",
    "    #shape is a dictionary with keys 'geometry' and 'coordinates'\n",
    "    #coordinates is a sequence of sequences of tuples of vertices of the polygon\n",
    "    coords = shape['geometry']['coordinates']\n",
    "    f = plt.figure()\n",
    "    for segment in coords:\n",
    "        x,y = zip(*segment)\n",
    "        print 'Plotting %i vertices from a shape' % len(x)\n",
    "        plt.plot(x,y)\n",
    "        plt.hold(True)"
   ]
  },
  {
   "cell_type": "code",
   "execution_count": 6,
   "metadata": {
    "collapsed": false
   },
   "outputs": [],
   "source": [
    "def plotShapes(shapes):\n",
    "    #shape is a dictionary with keys 'geometry' and 'coordinates'\n",
    "    #coordinates is a sequence of sequences of tuples of vertices of the polygon\n",
    "    coords = shape['geometry']['coordinates']\n",
    "    f = plt.figure()\n",
    "    for segment in coords:\n",
    "        x,y = zip(*segment)\n",
    "        print 'Plotting %i vertices from a shape' % len(x)\n",
    "        plt.plot(x,y)\n",
    "        plt.hold(True)"
   ]
  },
  {
   "cell_type": "code",
   "execution_count": 7,
   "metadata": {
    "collapsed": false
   },
   "outputs": [
    {
     "name": "stdout",
     "output_type": "stream",
     "text": [
      "-119.074055183 -118.169284954 34.0004506188 34.6703072669\n",
      "7448 83072\n",
      "618720256\n",
      "-118.621670069\n"
     ]
    }
   ],
   "source": [
    "print xmin,xmax,ymin,ymax\n",
    "res = 10.0\n",
    "nrows = int(((ymax - ymin) * 111191)/res)\n",
    "ncols = int(((xmax - xmin) * 111191 * np.cos(np.radians(np.mean((ymin,ymax))))))\n",
    "print nrows,ncols\n",
    "print nrows*ncols\n",
    "print np.mean((xmin,xmax))"
   ]
  },
  {
   "cell_type": "code",
   "execution_count": 8,
   "metadata": {
    "collapsed": false
   },
   "outputs": [],
   "source": [
    "latmiddle = ymin + (ymax-ymin)/2.0\n",
    "lonmiddle = xmin + (xmax-xmin)/2.0\n",
    "projstr = '+proj=ortho +lat_0=%.4f +lon_0=%.4f +x_0=0.0 +y_0=0.0'\n",
    "\n",
    "proj = pyproj.Proj(projparams=projstr % (latmiddle,lonmiddle))\n",
    "project = partial(\n",
    "    pyproj.transform,\n",
    "    pyproj.Proj(projparams='+proj=latlong'),\n",
    "    proj)"
   ]
  },
  {
   "cell_type": "code",
   "execution_count": 9,
   "metadata": {
    "collapsed": false
   },
   "outputs": [],
   "source": [
    "g1 = shape(shapes[0]['geometry'])"
   ]
  },
  {
   "cell_type": "code",
   "execution_count": 10,
   "metadata": {
    "collapsed": false
   },
   "outputs": [],
   "source": [
    "g2 = transform(project, g1)"
   ]
  },
  {
   "cell_type": "code",
   "execution_count": 11,
   "metadata": {
    "collapsed": false
   },
   "outputs": [],
   "source": [
    "x,y = zip(*g2.boundary.coords)"
   ]
  },
  {
   "cell_type": "code",
   "execution_count": 12,
   "metadata": {
    "collapsed": false
   },
   "outputs": [
    {
     "data": {
      "text/plain": [
       "[<matplotlib.lines.Line2D at 0x11ab93dd0>]"
      ]
     },
     "execution_count": 12,
     "metadata": {},
     "output_type": "execute_result"
    },
    {
     "name": "stderr",
     "output_type": "stream",
     "text": [
      "/Users/mhearne/anaconda/envs/py2/lib/python2.7/site-packages/matplotlib/font_manager.py:273: UserWarning: Matplotlib is building the font cache using fc-list. This may take a moment.\n",
      "  warnings.warn('Matplotlib is building the font cache using fc-list. This may take a moment.')\n"
     ]
    },
    {
     "data": {
      "image/png": "[encoded data removed]",
      "text/plain": [
       "<matplotlib.figure.Figure at 0x10d425990>"
      ]
     },
     "metadata": {},
     "output_type": "display_data"
    }
   ],
   "source": [
    "plt.plot(x,y)"
   ]
  },
  {
   "cell_type": "code",
   "execution_count": 13,
   "metadata": {
    "collapsed": false
   },
   "outputs": [
    {
     "name": "stdout",
     "output_type": "stream",
     "text": [
      "-41746.3182989 41751.8426918 -37193.2310869 37373.730265\n"
     ]
    }
   ],
   "source": [
    "ulx,uly = proj(xmin,ymax)\n",
    "llx,lly = proj(xmin,ymin)\n",
    "urx,ury = proj(xmax,ymax)\n",
    "lrx,lry = proj(xmax,ymin)\n",
    "pxmin = np.min((ulx,llx))\n",
    "pxmax = np.max((urx,lrx))\n",
    "pymin = np.min((lly,lry))\n",
    "pymax = np.max((uly,ury))\n",
    "print pxmin,pxmax,pymin,pymax"
   ]
  },
  {
   "cell_type": "code",
   "execution_count": 14,
   "metadata": {
    "collapsed": false
   },
   "outputs": [
    {
     "name": "stdout",
     "output_type": "stream",
     "text": [
      "8351\n",
      "7458\n"
     ]
    }
   ],
   "source": [
    "res = 10.0\n",
    "xvar = np.arange(pxmin,pxmax+res,res)\n",
    "yvar = np.arange(pymin,pymax+res,res)\n",
    "ncols = len(xvar)\n",
    "nrows = len(yvar)\n",
    "print ncols\n",
    "print nrows"
   ]
  },
  {
   "cell_type": "code",
   "execution_count": 15,
   "metadata": {
    "collapsed": false
   },
   "outputs": [
    {
     "name": "stdout",
     "output_type": "stream",
     "text": [
      "-9279.50912207 -9213.05070223 37190.9826141 37286.1100104\n"
     ]
    }
   ],
   "source": [
    "polyxmin = np.min(x)\n",
    "polyxmax = np.max(x)\n",
    "polyymin = np.min(y)\n",
    "polyymax = np.max(y)\n",
    "print polyxmin,polyxmax,polyymin,polyymax"
   ]
  },
  {
   "cell_type": "code",
   "execution_count": 16,
   "metadata": {
    "collapsed": false
   },
   "outputs": [
    {
     "name": "stdout",
     "output_type": "stream",
     "text": [
      "Left column is 3246\n",
      "Value at left column is -9286.318\n",
      "Left edge of polygon is -9279.509\n",
      "Right column is 3254\n",
      "Value at right column is -9206.318\n",
      "Right edge of polygon is -9213.051\n",
      "Bottom row is 7438\n",
      "Value at Bottom row is 37186.769\n",
      "Bottom edge of polygon is 37190.983\n",
      "Top row is 7448\n",
      "Value at top row is 37286.769\n",
      "Top edge of polygon is 37286.110\n"
     ]
    }
   ],
   "source": [
    "#find the highest index in xvar where polyxmin - xvar is positive\n",
    "leftcol = np.where((polyxmin - xvar) > 0)[0].argmax()\n",
    "print 'Left column is %i' % leftcol\n",
    "print 'Value at left column is %.3f' %  xvar[leftcol]\n",
    "print 'Left edge of polygon is %.3f' %  polyxmin\n",
    "\n",
    "#find the lowest index in xvar where xvar - polyxmax is positive\n",
    "rightcol = np.where((xvar - polyxmax) > 0)[0][0]\n",
    "print 'Right column is %i' % rightcol\n",
    "print 'Value at right column is %.3f' %  xvar[rightcol]\n",
    "print 'Right edge of polygon is %.3f' %  polyxmax\n",
    "\n",
    "#find bottom row\n",
    "bottomrow = np.where((polyymin - yvar) > 0)[0].argmax()\n",
    "print 'Bottom row is %i' % bottomrow\n",
    "print 'Value at Bottom row is %.3f' %  yvar[bottomrow]\n",
    "print 'Bottom edge of polygon is %.3f' %  polyymin\n",
    "\n",
    "#find top row\n",
    "toprow = np.where((yvar - polyymax) > 0)[0][0]\n",
    "print 'Top row is %i' % toprow\n",
    "print 'Value at top row is %.3f' %  yvar[toprow]\n",
    "print 'Top edge of polygon is %.3f' %  polyymax"
   ]
  },
  {
   "cell_type": "code",
   "execution_count": 17,
   "metadata": {
    "collapsed": false
   },
   "outputs": [
    {
     "name": "stdout",
     "output_type": "stream",
     "text": [
      "[(-9226.3182988836052, 37196.768913129381), (-9216.3182988836052, 37196.768913129381), (-9246.3182988836052, 37206.768913129381), (-9236.3182988836052, 37206.768913129381), (-9226.3182988836052, 37206.768913129381), (-9246.3182988836052, 37216.768913129381), (-9236.3182988836052, 37216.768913129381), (-9226.3182988836052, 37216.768913129381), (-9246.3182988836052, 37226.768913129381), (-9236.3182988836052, 37226.768913129381), (-9256.3182988836052, 37236.768913129381), (-9246.3182988836052, 37236.768913129381), (-9236.3182988836052, 37236.768913129381), (-9256.3182988836052, 37246.768913129381), (-9246.3182988836052, 37246.768913129381), (-9266.3182988836052, 37256.768913129381), (-9256.3182988836052, 37256.768913129381), (-9266.3182988836052, 37266.768913129381), (-9256.3182988836052, 37266.768913129381), (-9276.3182988836052, 37276.768913129381), (-9266.3182988836052, 37276.768913129381)]\n"
     ]
    },
    {
     "data": {
      "image/png": "[encoded data removed]",
      "text/plain": [
       "<matplotlib.figure.Figure at 0x11ad2b850>"
      ]
     },
     "metadata": {},
     "output_type": "display_data"
    }
   ],
   "source": [
    "#Now generate the mesh of points that fall inside this polygon\n",
    "xp = np.arange(xvar[leftcol],xvar[rightcol]+res,res)\n",
    "yp = np.arange(yvar[bottomrow],yvar[toprow]+res,res)\n",
    "xmesh,ymesh = np.meshgrid(xp,yp)\n",
    "xy = zip(xmesh.flatten(),ymesh.flatten())\n",
    "yespoints = []\n",
    "x,y = zip(*g2.boundary.coords)\n",
    "plt.plot(x,y,'b')\n",
    "plt.hold(True)\n",
    "for point in xy:\n",
    "    if g2.contains(Point(point)):\n",
    "        yespoints.append(point)\n",
    "        plt.plot(point[0],point[1],'r.')\n",
    "print yespoints"
   ]
  },
  {
   "cell_type": "code",
   "execution_count": 18,
   "metadata": {
    "collapsed": false
   },
   "outputs": [
    {
     "name": "stdout",
     "output_type": "stream",
     "text": [
      "[(-9286.3182988836052, 37186.768913129381), (-9276.3182988836052, 37186.768913129381), (-9266.3182988836052, 37186.768913129381), (-9256.3182988836052, 37186.768913129381), (-9246.3182988836052, 37186.768913129381), (-9236.3182988836052, 37186.768913129381), (-9226.3182988836052, 37186.768913129381), (-9216.3182988836052, 37186.768913129381), (-9206.3182988836052, 37186.768913129381), (-9286.3182988836052, 37196.768913129381), (-9276.3182988836052, 37196.768913129381), (-9266.3182988836052, 37196.768913129381), (-9256.3182988836052, 37196.768913129381), (-9246.3182988836052, 37196.768913129381), (-9236.3182988836052, 37196.768913129381), (-9226.3182988836052, 37196.768913129381), (-9216.3182988836052, 37196.768913129381), (-9206.3182988836052, 37196.768913129381), (-9286.3182988836052, 37206.768913129381), (-9276.3182988836052, 37206.768913129381), (-9266.3182988836052, 37206.768913129381), (-9256.3182988836052, 37206.768913129381), (-9246.3182988836052, 37206.768913129381), (-9236.3182988836052, 37206.768913129381), (-9226.3182988836052, 37206.768913129381), (-9216.3182988836052, 37206.768913129381), (-9206.3182988836052, 37206.768913129381), (-9286.3182988836052, 37216.768913129381), (-9276.3182988836052, 37216.768913129381), (-9266.3182988836052, 37216.768913129381), (-9256.3182988836052, 37216.768913129381), (-9246.3182988836052, 37216.768913129381), (-9236.3182988836052, 37216.768913129381), (-9226.3182988836052, 37216.768913129381), (-9216.3182988836052, 37216.768913129381), (-9206.3182988836052, 37216.768913129381), (-9286.3182988836052, 37226.768913129381), (-9276.3182988836052, 37226.768913129381), (-9266.3182988836052, 37226.768913129381), (-9256.3182988836052, 37226.768913129381), (-9246.3182988836052, 37226.768913129381), (-9236.3182988836052, 37226.768913129381), (-9226.3182988836052, 37226.768913129381), (-9216.3182988836052, 37226.768913129381), (-9206.3182988836052, 37226.768913129381), (-9286.3182988836052, 37236.768913129381), (-9276.3182988836052, 37236.768913129381), (-9266.3182988836052, 37236.768913129381), (-9256.3182988836052, 37236.768913129381), (-9246.3182988836052, 37236.768913129381), (-9236.3182988836052, 37236.768913129381), (-9226.3182988836052, 37236.768913129381), (-9216.3182988836052, 37236.768913129381), (-9206.3182988836052, 37236.768913129381), (-9286.3182988836052, 37246.768913129381), (-9276.3182988836052, 37246.768913129381), (-9266.3182988836052, 37246.768913129381), (-9256.3182988836052, 37246.768913129381), (-9246.3182988836052, 37246.768913129381), (-9236.3182988836052, 37246.768913129381), (-9226.3182988836052, 37246.768913129381), (-9216.3182988836052, 37246.768913129381), (-9206.3182988836052, 37246.768913129381), (-9286.3182988836052, 37256.768913129381), (-9276.3182988836052, 37256.768913129381), (-9266.3182988836052, 37256.768913129381), (-9256.3182988836052, 37256.768913129381), (-9246.3182988836052, 37256.768913129381), (-9236.3182988836052, 37256.768913129381), (-9226.3182988836052, 37256.768913129381), (-9216.3182988836052, 37256.768913129381), (-9206.3182988836052, 37256.768913129381), (-9286.3182988836052, 37266.768913129381), (-9276.3182988836052, 37266.768913129381), (-9266.3182988836052, 37266.768913129381), (-9256.3182988836052, 37266.768913129381), (-9246.3182988836052, 37266.768913129381), (-9236.3182988836052, 37266.768913129381), (-9226.3182988836052, 37266.768913129381), (-9216.3182988836052, 37266.768913129381), (-9206.3182988836052, 37266.768913129381), (-9286.3182988836052, 37276.768913129381), (-9276.3182988836052, 37276.768913129381), (-9266.3182988836052, 37276.768913129381), (-9256.3182988836052, 37276.768913129381), (-9246.3182988836052, 37276.768913129381), (-9236.3182988836052, 37276.768913129381), (-9226.3182988836052, 37276.768913129381), (-9216.3182988836052, 37276.768913129381), (-9206.3182988836052, 37276.768913129381), (-9286.3182988836052, 37286.768913129381), (-9276.3182988836052, 37286.768913129381), (-9266.3182988836052, 37286.768913129381), (-9256.3182988836052, 37286.768913129381), (-9246.3182988836052, 37286.768913129381), (-9236.3182988836052, 37286.768913129381), (-9226.3182988836052, 37286.768913129381), (-9216.3182988836052, 37286.768913129381), (-9206.3182988836052, 37286.768913129381)]\n"
     ]
    }
   ],
   "source": [
    "print xy"
   ]
  },
  {
   "cell_type": "code",
   "execution_count": 19,
   "metadata": {
    "collapsed": false
   },
   "outputs": [
    {
     "name": "stdout",
     "output_type": "stream",
     "text": [
      "[(-9265.908436673153, 37286.11001035464), (-9264.303192034955, 37285.30481151573), (-9259.39668763592, 37279.17384340976), (-9257.57777189953, 37276.7254025346), (-9254.533010995781, 37271.818917160315), (-9250.875578849365, 37265.699088124704), (-9247.2199599908, 37257.74433291122), (-9242.959405799702, 37251.00695435841), (-9240.496353384182, 37247.329995926346), (-9236.243786270035, 37243.039016395654), (-9233.782547219862, 37237.52713162143), (-9231.97705864827, 37232.02031123335), (-9229.515819754768, 37226.508426103646), (-9226.48267298976, 37220.37848627798), (-9221.587782785346, 37213.02406215958), (-9217.325415537014, 37208.12160765215), (-9214.895391158716, 37202.60921618166), (-9213.050702230614, 37194.65650000929), (-9214.271936400783, 37190.98261405124), (-9234.383546501416, 37197.10262165019), (-9238.629688751333, 37197.09659762067), (-9245.94019119787, 37203.220008100674), (-9248.994751322916, 37208.73796883407), (-9252.057298231051, 37216.70232893373), (-9252.065284979308, 37219.148728499684), (-9252.071458281343, 37223.43005406861), (-9252.682567218553, 37226.494002562606), (-9253.886998051243, 37229.56402646061), (-9259.986067522383, 37239.97279370319), (-9261.814783240588, 37243.03270848973), (-9266.680272304984, 37248.55270972543), (-9269.143324429186, 37252.229667663945), (-9271.584711366097, 37256.50292555736), (-9272.808743066118, 37260.795895678835), (-9274.61448308203, 37266.31839331433), (-9277.077284037829, 37269.97967198128), (-9279.50912206564, 37273.657134788766), (-9278.898998693161, 37280.394967257744), (-9277.689379452435, 37282.84539986801), (-9275.26396677396, 37283.46494057507), (-9270.381675819059, 37284.68884863884), (-9267.956011782768, 37285.292710546644), (-9265.908436673153, 37286.11001035464)]\n"
     ]
    }
   ],
   "source": [
    "print g2.exterior.coords[:]"
   ]
  },
  {
   "cell_type": "code",
   "execution_count": null,
   "metadata": {
    "collapsed": true
   },
   "outputs": [],
   "source": []
  },
  {
   "cell_type": "code",
   "execution_count": null,
   "metadata": {
    "collapsed": true
   },
   "outputs": [],
   "source": []
  }
 ],
 "metadata": {
  "kernelspec": {
   "display_name": "Python 2",
   "language": "python",
   "name": "python2"
  },
  "language_info": {
   "codemirror_mode": {
    "name": "ipython",
    "version": 2
   },
   "file_extension": ".py",
   "mimetype": "text/x-python",
   "name": "python",
   "nbconvert_exporter": "python",
   "pygments_lexer": "ipython2",
   "version": "2.7.12"
  },
  "widgets": {
   "state": {},
   "version": "1.1.2"
  }
 },
 "nbformat": 4,
 "nbformat_minor": 0
}
